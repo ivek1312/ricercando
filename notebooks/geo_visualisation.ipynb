{
 "cells": [
  {
   "cell_type": "markdown",
   "metadata": {},
   "source": [
    "# Interactive geographical visualisation of MONROE data\n",
    "\n",
    "## Features\n",
    "\n",
    "This notebook enables on-demand visualisation of data collected with MONROE platform on a geographical map. It provides the following features:\n",
    "* Fast visualisation of multiple parameters of data collected on MONROE nodes along the geographical dimensions.\n",
    "* Adaptive granularity, where the data resolution is adjusted by the user.\n",
    "* Selection and on-disk storage of visualised data for further analysis in Orange data mining toolbox. \n",
    "\n",
    "## Prerequisites\n",
    "\n",
    "### Database access\n",
    "Cassandra DB used for the central MONROE data repository is a no-SQL database inappropriate for time-series data mining. Instead, this notebook requires that the data is stored in an Influx DB accessible from the machine where this script is run. Influx DB is a database that __[performs up to 168 times faster for certain queries than Cassandra DB](https://www.influxdata.com/blog/influxdb-vs-cassandra-time-series/)__. To create a replica of MONROE data on your local Influx DB: \n",
    "> 1) Create recipes for loading and naming MONROE data tables and their attributes that you plan to have in your local database. __[Example recipes](https://github.com/ivek1312/ricercando/tree/master/scripts/recipes)__.\n",
    "\n",
    "> 2) Download __[MONROE daily dump CSV files](https://www.monroe-system.eu/user/dailyDumps/)__ of tables for which the recepies are present and for dates for which you would like to have data in your local database.\n",
    "\n",
    "> 3) Run cassandra_dump_to_line_protocol.sh as __[per instructions](https://github.com/ivek1312/ricercando/tree/master/scripts)__.\n",
    "\n",
    "### Python packages\n",
    "The notebook requires the following Python packages:\n",
    "* **ricercando** - this package is bundled in __[RICERCANDO repository](https://github.com/ivek1312/ricercando)__ and can be installed with ```pip install -e .\"``` ran in the repository's root directory.\n",
    "\n",
    "## Known issues\n",
    "* Plotting measurements sampled at one second intervalcan be very slow or can crash you browser. \n"
   ]
  },
  {
   "cell_type": "markdown",
   "metadata": {},
   "source": [
    "## Analysis flow\n",
    "Please run the following cells one after another, starting with the pre-initialisation cells."
   ]
  },
  {
   "cell_type": "markdown",
   "metadata": {},
   "source": [
    "### Pre-initialisation"
   ]
  },
  {
   "cell_type": "code",
   "execution_count": null,
   "metadata": {},
   "outputs": [],
   "source": [
    "# Set to database IP. This must be reachable from the machine where this script is ran. \n",
    "DB_IP='192.168.27.75'\n",
    "# DB_IP='localhost'"
   ]
  },
  {
   "cell_type": "code",
   "execution_count": null,
   "metadata": {},
   "outputs": [],
   "source": [
    "#load with this parameters\n",
    "#jupyter notebook --NotebookApp.iopub_data_rate_limit=10000000000\n",
    "\n",
    "#problem with zoom https://github.com/ioam/geoviews/issues/111\n",
    "#pip  install --user --pre -i https://pypi.anaconda.org/bokeh/channel/dev/simple bokeh==0.12.14dev6 --extra-index-url https://pypi.python.org/simple/\n",
    "\n",
    "import holoviews as hv\n",
    "import param, paramnb\n",
    "import pandas as pd\n",
    "from colorcet import cm #pip install colorcet\n",
    "import numpy as np\n",
    "from bokeh.models import HoverTool\n",
    "\n",
    "from bokeh.models import WMTSTileSource\n",
    "from operator import itemgetter\n",
    "\n",
    "from cartopy import crs as ccrs\n",
    "\n",
    "\n",
    "#https://stackoverflow.com/questions/41675041/bokeh-time-series-plot-annotation-is-off-by-1-hour/41698735\n",
    "#https://github.com/bokeh/bokeh/issues/5499\n",
    "#https://github.com/bokeh/bokeh/issues/1135\n",
    "#https://github.com/bokeh/bokeh/issues/729\n",
    "#https://github.com/bokeh/bokeh/issues/1103\n",
    "\n",
    "\n",
    "hv.notebook_extension('bokeh', width=100)\n",
    "\n",
    "from ricercando import set_connection_params, all_tables, all_nodes, getdf, tables_for_node, nodes_for_table\n",
    "from ricercando.db import _CATEGORICAL_COLUMNS\n",
    "set_connection_params(host=DB_IP)\n",
    "#set_connection_params(host='localhost')\n",
    "\n",
    "\n",
    "rtt_opts= {'Points':{'style':dict(cmap='Set3', size=2), 'plot':dict( color_index='Message', width=400, height=400, colorbar=True, tools=['hover', 'lasso_select', 'box_select']) }}\n",
    "\n",
    "#data type, if df doesnt coontain these valuse, fill them with appropriate NA values => 'None' if categorical, zero if continous\n",
    "values = {}\n",
    "categorical = list(_CATEGORICAL_COLUMNS)\n",
    "\n",
    "continous = ['Altitude', 'SatelliteCount', 'Speed', 'RTT', 'BootCounter', 'CPU_Apps', 'CPU_User', 'CumUptime', 'Swap', \n",
    "             'Uptime', 'RSCP','RSRP','RSRQ','RSSI', 'Temperature', 'IOWait', \n",
    "             'TCPCbytesAll','TCPSbytesAll','TCPDuration','TCPCRTTAVG','TCPCRTTSTD','TCPCPktsRetx','TCPCPktsOOO','TCPSPktsRetx','TCPSPktsOOO',\n",
    "            'Download','Upload','RTTClient','RTTServer','Status'\n",
    "            'UDPCbytesAll','UDPSbytesAll','UDPCDurat','UDPSDurat', 'TCPGoodPutUpload', 'TCPGoodPutDownload', 'UDPGoodPutUpload', 'UDPGoodPutDownload']\n",
    "\n",
    "for val in categorical:\n",
    "    values[val]='None'\n",
    "    \n",
    "for val in continous:\n",
    "    values[val]=0\n",
    "\n",
    "values['RTT']=-50 #nans not plotted, lets visualize that with -50\n",
    "kdims=['Longitude','Latitude']\n",
    "\n",
    "#all tables from dataframe\n",
    "tables = 'ping gps modem event sensor nettest tcpcomplete udpcomplete'\n",
    "\n",
    "import geoviews as gv\n",
    "\n",
    "from bokeh.tile_providers import STAMEN_TONER\n",
    "tiles = {'OpenMap': WMTSTileSource(url='http://c.tile.openstreetmap.org/{Z}/{X}/{Y}.png'),\n",
    "         'ESRI': WMTSTileSource(url='https://server.arcgisonline.com/ArcGIS/rest/services/World_Imagery/MapServer/tile/{Z}/{Y}/{X}.jpg'),\n",
    "         'Wikipedia': WMTSTileSource(url='https://maps.wikimedia.org/osm-intl/{Z}/{X}/{Y}@2x.png'),\n",
    "         'StamenToner': STAMEN_TONER}\n",
    "\n",
    "tile_options = dict(width=600,height=600, xaxis=None,yaxis=None,bgcolor='white',show_grid=True)\n",
    "  \n",
    "#changes the html object when another column is selected, it si not possible to draw to same graph with different axes\n",
    "def render(obj):\n",
    "    renderer = hv.renderer('bokeh')\n",
    "    plot = renderer.get_plot(obj)\n",
    "    size = renderer.get_size(plot)\n",
    "    #return renderer.figure_data(plot), size #bokeh older than 0.12.10 and holoview older than 1.9.0\n",
    "    return renderer._figure_data(plot), size\n",
    "\n",
    "def fixVals(df):\n",
    "    tmp = df.copy()\n",
    "    for val in categorical: #categorical data have nan and can't be shown if nan is not set to some new categirical value=>'None'\n",
    "        if val in tmp.columns:\n",
    "            tmp[val] = tmp[val].cat.add_categories(\"None\")\n",
    "        else: tmp[val] = np.nan\n",
    "                    \n",
    "    for val in continous:\n",
    "        if val not in tmp.columns:\n",
    "            tmp[val] = np.nan\n",
    "    \n",
    "    return tmp.fillna(value=values)\n"
   ]
  },
  {
   "cell_type": "code",
   "execution_count": null,
   "metadata": {
    "scrolled": false
   },
   "outputs": [],
   "source": [
    "# Classes for data exploration\n",
    "\n",
    "class DateExplorer(hv.streams.Stream):\n",
    "    \n",
    "    output = paramnb.view.HTML(renderer=render)\n",
    "    \n",
    "    Node = param.ObjectSelector(default='582', objects=nodes_for_table()['gps'], precedence=5)\n",
    "    \n",
    "    Day = param.ObjectSelector(default='01', objects=[\"%.2d\" % i for i in range(1,32)], precedence=1)\n",
    "    Month = param.ObjectSelector(default='01', objects=[\"%.2d\" % i for i in range(1,13)],precedence=2)\n",
    "\n",
    "    \n",
    "    Year = param.Integer(default=2018, bounds=(2016, 2018),precedence=3)\n",
    "    Coloring = param.ObjectSelector(default='RTT', objects=continous+categorical, precedence=4)\n",
    "    Colormap = param.ObjectSelector(default=cm['linear_bmy_10_95_c71'], objects=cm.values())\n",
    "    Sampling = param.ObjectSelector(default='1m', objects=['30m','1m','1s'])\n",
    "    \n",
    "    MapTile = param.ObjectSelector(default=\"OpenMap\", objects=['OpenMap','ESRI','Wikipedia','StamenToner'])\n",
    "\n",
    "    data = []\n",
    "    callbacks = []\n",
    "    \n",
    "    def retData(self):\n",
    "        return pd.concat([d[1].iloc[c.index] for d,c in zip(self.data,self.callbacks)])\n",
    "    \n",
    "    class CallbackClass(object):\n",
    "        def __init__(self): \n",
    "            self.index=None\n",
    "        def callback(self, index):\n",
    "            self.index = index\n",
    "            return hv.Overlay([])\n",
    "    \n",
    "    def event(self, **kwargs):\n",
    "        if self.output is None or 'Day' in kwargs or 'Month' in kwargs or 'Year' in kwargs or 'Node' in kwargs  or 'Coloring' in kwargs or 'Colormap' in kwargs or 'MapTile' in kwargs or 'Sampling' in kwargs:\n",
    "            \n",
    "            df = getdf(tables, nodeid=self.Node, start_time='{0}-{1}-{2} 00:00:00'.format(self.Year, self.Month, self.Day), \n",
    "                        end_time='{0}-{1}-{2} 23:59:59'.format(self.Year, self.Month, self.Day), freq=self.Sampling)\n",
    "            \n",
    "            if df.empty or 'Iccid' not in df.columns:\n",
    "                self.output  = hv.Points(pd.DataFrame([[0,0]], columns=kdims), kdims=kdims,vdims=[], label='Empty dataframe').opts(rtt_opts); return\n",
    "            \n",
    "            iccidGroups = [(iccid,group.reset_index())  for iccid,group in df.groupby('Iccid')\n",
    "                           if all(x in group.columns for x in ['Latitude', 'Longitude', self.Coloring ]) and\n",
    "                           group.Latitude.notnull().any() and group.Longitude.notnull().any() and  group[self.Coloring].notnull().any()\n",
    "                          ]\n",
    "            if not iccidGroups:\n",
    "                self.output  = hv.Points(pd.DataFrame([[0,0]], columns=kdims), kdims=kdims,vdims=[],label='GPS or '+self.Coloring+' missing.').opts(rtt_opts); return\n",
    "                        \n",
    "            iccidGroups = sorted(iccidGroups, key=itemgetter(0))\n",
    "            iccidGroups4plot = [ (iccid,fixVals(group))  for iccid,group in iccidGroups]\n",
    "            self.data = iccidGroups\n",
    "\n",
    "            \n",
    "\n",
    "            rtt_opts['Points']['plot']['color_index']=self.Coloring\n",
    "\n",
    "            rtt_opts['Points']['style']['cmap']=self.Colormap\n",
    "        \n",
    "            HVpoints = [ gv.Points(group, kdims=kdims, vdims=categorical+continous, label=iccid).opts(rtt_opts ) for iccid,group in iccidGroups4plot]\n",
    "\n",
    "            streams4points = [hv.streams.Selection1D(source=points) for points in HVpoints]\n",
    "            \n",
    "            self.callbacks = [self.CallbackClass() for point in HVpoints]\n",
    "            dmaps = [hv.DynamicMap(callback.callback ,kdims=[], streams=[selection])  for callback,selection in zip(self.callbacks,streams4points)]\n",
    "            self.output = hv.Layout([point*dmap*gv.WMTS(tiles[self.MapTile]) for point,dmap in zip(HVpoints,dmaps)]).cols(2)\n",
    "\n",
    "        else:            \n",
    "            super(DateExplorer, self).event( **kwargs)\n",
    "            \n",
    "class GPSPlot(object):\n",
    "    def __init__(self): \n",
    "        self.explorer = DateExplorer()\n",
    "        paramnb.Widgets(self.explorer, continuous_update=True, callback=self.explorer.event, on_init=True)\n",
    "    def retData(self):\n",
    "        return self.explorer.retData()"
   ]
  },
  {
   "cell_type": "markdown",
   "metadata": {},
   "source": [
    "## Visualisation initalisation and interaction\n",
    "Running the cell below should produce a node/date/parameter selector and geographical plots of these -- one plot for each of the node's interfaces.\n",
    "If you want to visualise data from multiple nodes simultaneously, simply copy the cell, rename the variable (say to ```plot2```) and run it, as shown in the example below.\n",
    "\n",
    "### Interactive visualisation\n",
    "The visualisation widget allows the user to:\n",
    "* Select the date (day, month, year) for which the data will be shown. \n",
    "* Select the node whose data will be visualised.\n",
    "* Select the parameter that will correspond to the coloring of the plotted points. \n",
    "* Select the colormap.\n",
    "\n",
    "The data is initially always shown on a 24-hour plot and for all interfaces on the selected node (plot title corresponds to the interface ICCID). However, the user can zoom in to a particular region on the plot, in which case all plots are zoomed in simultaneously."
   ]
  },
  {
   "cell_type": "code",
   "execution_count": null,
   "metadata": {},
   "outputs": [],
   "source": [
    "plot1 = GPSPlot()"
   ]
  },
  {
   "cell_type": "code",
   "execution_count": null,
   "metadata": {},
   "outputs": [],
   "source": [
    "# plot2 = GPSPlot()"
   ]
  },
  {
   "cell_type": "markdown",
   "metadata": {},
   "source": [
    "## Data selection and storage\n",
    "Data can be selected with Lasso select or Box select on a plot. \n",
    "Calling ```retData()``` function of the ```GPSPlot``` object returns a data frame that corresponds to the selected data as in the example below."
   ]
  },
  {
   "cell_type": "code",
   "execution_count": null,
   "metadata": {
    "scrolled": false
   },
   "outputs": [],
   "source": [
    "df_selected = plot1.retData()[['Iccid', 'Latitude','Longitude','RSSI']]"
   ]
  },
  {
   "cell_type": "markdown",
   "metadata": {},
   "source": [
    "The selected data can now be stored on a local disk and loaded in Orange using the iPython connector widget from the MONROE toolbox. "
   ]
  },
  {
   "cell_type": "code",
   "execution_count": null,
   "metadata": {},
   "outputs": [],
   "source": [
    "# Stores the df_selected dataframe to a local disk.\n",
    "%store df_selected"
   ]
  }
 ],
 "metadata": {
  "kernelspec": {
   "display_name": "Python 3",
   "language": "python",
   "name": "python3"
  },
  "language_info": {
   "codemirror_mode": {
    "name": "ipython",
    "version": 3
   },
   "file_extension": ".py",
   "mimetype": "text/x-python",
   "name": "python",
   "nbconvert_exporter": "python",
   "pygments_lexer": "ipython3",
   "version": "3.7.4"
  }
 },
 "nbformat": 4,
 "nbformat_minor": 2
}
